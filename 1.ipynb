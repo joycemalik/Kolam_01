{
 "cells": [
  {
   "cell_type": "markdown",
   "id": "98f73985",
   "metadata": {},
   "source": [
    "```mermaid\n",
    "graph TD\n",
    "    A[START] --> B{1. DEFINE CANVAS};\n",
    "    B --> B1[Grid Type G?];\n",
    "    B1 --> B2[Dimensions D?];\n",
    "    B2 --> B3[Symmetry S?];\n",
    "    B3 --> C{2. DEFINE OPERATOR};\n",
    "    C --> C1{Style: Pulli or Sikku?};\n",
    "    C1 -- \"Pulli\" --> C2[Define Dot Sequence];\n",
    "    C1 -- \"Sikku\" --> C3[Define Turn Rules f(pos, dir, grid)];\n",
    "    C2 --> D;\n",
    "    C3 --> D;\n",
    "    D{3. DEFINE CONSTRAINT};\n",
    "    D --> D1[Connectivity K? (e.g., Single Loop)];\n",
    "    D1 --> E{4. EXECUTE & VALIDATE};\n",
    "    E --> E1[Initialize Start Point];\n",
    "    E1 --> E2[Apply Operator 'O' to draw next segment];\n",
    "    E2 --> E3{Enforce Symmetry 'S' at each step};\n",
    "    E3 --> E4{End of Path?};\n",
    "    E4 -- \"No\" --> E2;\n",
    "    E4 -- \"Yes\" --> F{5. VALIDATION};\n",
    "    F --> F1{Does pattern satisfy Constraint 'K'?};\n",
    "    F1 -- \"Yes\" --> G[END: Valid Kolam Generated];\n",
    "    F1 -- \"No\" --> H[FAIL: Invalid Parameters, Backtrack or Restart];\n",
    "```\n"
   ]
  },
  {
   "cell_type": "markdown",
   "id": "c074c005",
   "metadata": {},
   "source": [
    "    graph TD\n",
    "    A[START] --> B{1. DEFINE CANVAS};\n",
    "    B --> B1[Grid Type G?];\n",
    "    B1 --> B2[Dimensions D?];\n",
    "    B2 --> B3[Symmetry S?];\n",
    "    B3 --> C{2. DEFINE OPERATOR};\n",
    "    C --> C1{Style: Pulli or Sikku?};\n",
    "    C1 -- Pulli --> C2[Define Dot Sequence];\n",
    "    C1 -- Sikku --> C3[Define Turn Rules f(pos, dir, grid)];\n",
    "    C2 --> D;\n",
    "    C3 --> D;\n",
    "    D{3. DEFINE CONSTRAINT};\n",
    "    D --> D1[Connectivity K? (e.g., Single Loop)];\n",
    "    D1 --> E{4. EXECUTE & VALIDATE};\n",
    "    E --> E1[Initialize Start Point];\n",
    "    E1 --> E2[Apply Operator 'O' to draw next segment];\n",
    "    E2 --> E3{Enforce Symmetry 'S' at each step};\n",
    "    E3 --> E4{End of Path?};\n",
    "    E4 -- No --> E2;\n",
    "    E4 -- Yes --> F{5. VALIDATION};\n",
    "    F --> F1{Does pattern satisfy Constraint 'K'?};\n",
    "    F1 -- Yes --> G[END: Valid Kolam Generated];\n",
    "    F1 -- No --> H[FAIL: Invalid Parameters, Backtrack or Restart];"
   ]
  }
 ],
 "metadata": {
  "language_info": {
   "name": "python"
  }
 },
 "nbformat": 4,
 "nbformat_minor": 5
}
